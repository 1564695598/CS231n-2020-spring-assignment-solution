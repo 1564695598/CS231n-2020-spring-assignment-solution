{
 "cells": [
  {
   "cell_type": "code",
   "execution_count": 1,
   "metadata": {},
   "outputs": [],
   "source": [
    "import numpy as np"
   ]
  },
  {
   "cell_type": "code",
   "execution_count": 26,
   "metadata": {},
   "outputs": [
    {
     "data": {
      "text/plain": [
       "array([[1, 2],\n",
       "       [3, 4]])"
      ]
     },
     "execution_count": 26,
     "metadata": {},
     "output_type": "execute_result"
    }
   ],
   "source": [
    "a = np.array([[1,2],[3,4]])\n",
    "a"
   ]
  },
  {
   "cell_type": "code",
   "execution_count": 27,
   "metadata": {},
   "outputs": [
    {
     "data": {
      "text/plain": [
       "array([[1, 0],\n",
       "       [0, 1],\n",
       "       [1, 1]])"
      ]
     },
     "execution_count": 27,
     "metadata": {},
     "output_type": "execute_result"
    }
   ],
   "source": [
    "b = np.array([[1,0],[0,1],[1,1]])\n",
    "b"
   ]
  },
  {
   "cell_type": "code",
   "execution_count": 31,
   "metadata": {},
   "outputs": [
    {
     "data": {
      "text/plain": [
       "array([[[1, 0]],\n",
       "\n",
       "       [[0, 1]],\n",
       "\n",
       "       [[1, 1]]])"
      ]
     },
     "execution_count": 31,
     "metadata": {},
     "output_type": "execute_result"
    }
   ],
   "source": [
    "e = np.reshape(b,(3,1,2))\n",
    "e"
   ]
  },
  {
   "cell_type": "code",
   "execution_count": 64,
   "metadata": {},
   "outputs": [],
   "source": [
    "c = np.tile(a,(3,1))\n",
    "# c"
   ]
  },
  {
   "cell_type": "code",
   "execution_count": 24,
   "metadata": {},
   "outputs": [
    {
     "data": {
      "text/plain": [
       "array([[[1, 2],\n",
       "        [3, 4]],\n",
       "\n",
       "       [[1, 2],\n",
       "        [3, 4]],\n",
       "\n",
       "       [[1, 2],\n",
       "        [3, 4]]])"
      ]
     },
     "execution_count": 24,
     "metadata": {},
     "output_type": "execute_result"
    }
   ],
   "source": [
    "d = np.reshape(c,(3,2,2))\n",
    "d"
   ]
  },
  {
   "cell_type": "code",
   "execution_count": 42,
   "metadata": {},
   "outputs": [
    {
     "data": {
      "text/plain": [
       "array([[[0, 2],\n",
       "        [2, 4]],\n",
       "\n",
       "       [[1, 1],\n",
       "        [3, 3]],\n",
       "\n",
       "       [[0, 1],\n",
       "        [2, 3]]])"
      ]
     },
     "execution_count": 42,
     "metadata": {},
     "output_type": "execute_result"
    }
   ],
   "source": [
    "f = d-e\n",
    "f"
   ]
  },
  {
   "cell_type": "code",
   "execution_count": 60,
   "metadata": {},
   "outputs": [
    {
     "data": {
      "text/plain": [
       "array([[2, 6],\n",
       "       [2, 6],\n",
       "       [1, 5]])"
      ]
     },
     "execution_count": 60,
     "metadata": {},
     "output_type": "execute_result"
    }
   ],
   "source": [
    "np.sum(np.abs(f),axis = 2)"
   ]
  },
  {
   "cell_type": "markdown",
   "metadata": {},
   "source": [
    "# 总结一下\n",
    "broadcast可以迭代到内层，直至运算完毕。\n",
    "\n",
    "所以想要计算(500*n) 与 (5000*n)的两个数组的三维计算，需要扩张其维度\n",
    "\n",
    "np.reshape(b,(5000,1,n))\n",
    "\n",
    "与\n",
    "\n",
    "np.reshape(np.tile(a,(5000,1)),(5000,500,n))"
   ]
  },
  {
   "cell_type": "code",
   "execution_count": 50,
   "metadata": {},
   "outputs": [],
   "source": [
    "def D3Broadcast(a, b):\n",
    "    # a is Axn, b is Bxn\n",
    "    # Return BxA\n",
    "    assert b.shape[1] == a.shape[1]\n",
    "    b_new = np.reshape(b,(b.shape[0],1,b.shape[1]))\n",
    "    a_new = np.tile(a,(b.shape[0],1))\n",
    "    a_new = np.reshape(a_new,(b.shape[0],a.shape[0],b.shape[1]))\n",
    "    f = a_new-b_new\n",
    "    return np.sum(np.square(f),axis = 2)"
   ]
  },
  {
   "cell_type": "code",
   "execution_count": 51,
   "metadata": {},
   "outputs": [
    {
     "data": {
      "text/plain": [
       "array([[ 383,  228,  253,  473,  229,  411],\n",
       "       [ 158,  -53,   18,  304, -176,  186],\n",
       "       [ 120,  177,  394,  304,  212,  -38]])"
      ]
     },
     "execution_count": 51,
     "metadata": {},
     "output_type": "execute_result"
    }
   ],
   "source": [
    "D3Broadcast(a,b)"
   ]
  },
  {
   "cell_type": "code",
   "execution_count": 63,
   "metadata": {},
   "outputs": [
    {
     "data": {
      "text/plain": [
       "array([[2, 2, 1],\n",
       "       [6, 6, 5]])"
      ]
     },
     "execution_count": 63,
     "metadata": {},
     "output_type": "execute_result"
    }
   ],
   "source": [
    "D3Broadcast(b,a)"
   ]
  },
  {
   "cell_type": "markdown",
   "metadata": {},
   "source": [
    "# 实测以上方法不行\n",
    "`np.tile`需要过多内存"
   ]
  },
  {
   "cell_type": "code",
   "execution_count": 2,
   "metadata": {},
   "outputs": [
    {
     "data": {
      "text/plain": [
       "(6, 10)"
      ]
     },
     "execution_count": 2,
     "metadata": {},
     "output_type": "execute_result"
    }
   ],
   "source": [
    "a_l = 6 \n",
    "b_l = 3\n",
    "n = 10\n",
    "a = np.random.randint(-9,9,a_l*n, dtype=np.int8).reshape(a_l,n)\n",
    "a.shape"
   ]
  },
  {
   "cell_type": "code",
   "execution_count": 3,
   "metadata": {},
   "outputs": [
    {
     "data": {
      "text/plain": [
       "(3, 10)"
      ]
     },
     "execution_count": 3,
     "metadata": {},
     "output_type": "execute_result"
    }
   ],
   "source": [
    "b = np.random.randint(-9,9,b_l*n, dtype=np.int8).reshape(b_l,n)\n",
    "b.shape"
   ]
  },
  {
   "cell_type": "code",
   "execution_count": 46,
   "metadata": {},
   "outputs": [
    {
     "data": {
      "text/plain": [
       "array([[ 383,  158,  120],\n",
       "       [ 228,  -53,  177],\n",
       "       [ 253,   18,  394],\n",
       "       [ 473,  304,  304],\n",
       "       [ 229, -176,  212],\n",
       "       [ 411,  186,  -38]])"
      ]
     },
     "execution_count": 46,
     "metadata": {},
     "output_type": "execute_result"
    }
   ],
   "source": [
    "c = np.sum(np.square(a.reshape(a.shape[0],1,a.shape[1])-b),axis = 2)\n",
    "c.shape\n",
    "' DO NOT RUN THIS, MEMORY EXPLOISION'\n",
    "c"
   ]
  },
  {
   "cell_type": "markdown",
   "metadata": {},
   "source": [
    "# 实测以上方法还是不行\n",
    "\n",
    "任然爆掉内存了"
   ]
  },
  {
   "cell_type": "code",
   "execution_count": 52,
   "metadata": {},
   "outputs": [
    {
     "data": {
      "text/plain": [
       "array([[383., 414., 632.],\n",
       "       [484., 459., 177.],\n",
       "       [253., 274., 394.],\n",
       "       [729., 304., 304.],\n",
       "       [229., 592., 212.],\n",
       "       [411., 186., 218.]])"
      ]
     },
     "execution_count": 52,
     "metadata": {},
     "output_type": "execute_result"
    }
   ],
   "source": [
    "# del c\n",
    "m = np.zeros((a.shape[0],b.shape[0],a.shape[1]))\n",
    "np.subtract(a.reshape(a.shape[0],1,a.shape[1]), b, m)\n",
    "ans = np.sum(np.square(m),axis = 2)\n",
    "ans.shape\n",
    "ans"
   ]
  },
  {
   "cell_type": "markdown",
   "metadata": {},
   "source": [
    "# 实测还是不行\n",
    "\n",
    "尝试 $(a-b)^2 =(a-b)·(a-b)= a^2 +b^2 -a·b - b·a$"
   ]
  },
  {
   "cell_type": "code",
   "execution_count": 39,
   "metadata": {},
   "outputs": [
    {
     "data": {
      "text/plain": [
       "array([320, 163, 202, 262, 264, 150])"
      ]
     },
     "execution_count": 39,
     "metadata": {},
     "output_type": "execute_result"
    }
   ],
   "source": [
    "a1 = np.sum(np.square(a),axis=1)\n",
    "a1"
   ]
  },
  {
   "cell_type": "code",
   "execution_count": 43,
   "metadata": {},
   "outputs": [
    {
     "data": {
      "text/plain": [
       "array([159, 172, 202])"
      ]
     },
     "execution_count": 43,
     "metadata": {},
     "output_type": "execute_result"
    }
   ],
   "source": [
    "b1 = np.transpose(np.sum(np.square(b),axis=1))\n",
    "b1.transpose()\n",
    "b1"
   ]
  },
  {
   "cell_type": "code",
   "execution_count": 45,
   "metadata": {},
   "outputs": [
    {
     "data": {
      "text/plain": [
       "array([[479, 492, 522],\n",
       "       [322, 335, 365],\n",
       "       [361, 374, 404],\n",
       "       [421, 434, 464],\n",
       "       [423, 436, 466],\n",
       "       [309, 322, 352]])"
      ]
     },
     "execution_count": 45,
     "metadata": {},
     "output_type": "execute_result"
    }
   ],
   "source": [
    "a2b2 = a1[:,np.newaxis]+b1\n",
    "a2b2"
   ]
  },
  {
   "cell_type": "code",
   "execution_count": 35,
   "metadata": {},
   "outputs": [
    {
     "data": {
      "text/plain": [
       "array([[ 48,  39, -55],\n",
       "       [-81, -62,  94],\n",
       "       [ 54,  50,   5],\n",
       "       [102,  65,  80],\n",
       "       [ 97, -78, 127],\n",
       "       [-51,  68,  67]], dtype=int8)"
      ]
     },
     "execution_count": 35,
     "metadata": {},
     "output_type": "execute_result"
    }
   ],
   "source": [
    "ba = np.dot(a, b.T)\n",
    "ba"
   ]
  },
  {
   "cell_type": "code",
   "execution_count": 36,
   "metadata": {},
   "outputs": [
    {
     "data": {
      "text/plain": [
       "array([[383, 414, 632],\n",
       "       [228, 459, 433],\n",
       "       [253, 274, 394],\n",
       "       [473, 560, 560],\n",
       "       [485, 336, 468],\n",
       "       [411, 442, 474]])"
      ]
     },
     "execution_count": 36,
     "metadata": {},
     "output_type": "execute_result"
    }
   ],
   "source": [
    "(a2b2-2*ba)"
   ]
  },
  {
   "cell_type": "code",
   "execution_count": 60,
   "metadata": {},
   "outputs": [
    {
     "data": {
      "text/plain": [
       "array([[[383, 414, 632]],\n",
       "\n",
       "       [[228, 459, 433]],\n",
       "\n",
       "       [[253, 274, 394]],\n",
       "\n",
       "       [[473, 560, 560]],\n",
       "\n",
       "       [[485, 336, 468]],\n",
       "\n",
       "       [[411, 442, 474]]])"
      ]
     },
     "execution_count": 60,
     "metadata": {},
     "output_type": "execute_result"
    }
   ],
   "source": [
    "(-2*np.dot(a, b.T) + \n",
    "        np.sum(np.square(b), axis = 1) + \n",
    "        np.transpose([np.sum(np.square(a), axis = 1)]))[:,np.newaxis]"
   ]
  },
  {
   "cell_type": "markdown",
   "metadata": {},
   "source": [
    "# 2"
   ]
  },
  {
   "cell_type": "code",
   "execution_count": 63,
   "metadata": {},
   "outputs": [
    {
     "data": {
      "text/plain": [
       "[array([ 7, -2,  1], dtype=int8),\n",
       " array([7, 5, 2], dtype=int8),\n",
       " array([ 6, -8], dtype=int8),\n",
       " array([-9,  7], dtype=int8)]"
      ]
     },
     "execution_count": 63,
     "metadata": {},
     "output_type": "execute_result"
    }
   ],
   "source": [
    "a = np.random.randint(-9,9,10, dtype=np.int8)\n",
    "a_l = np.array_split(a, 4)\n",
    "a_l"
   ]
  },
  {
   "cell_type": "code",
   "execution_count": 71,
   "metadata": {},
   "outputs": [
    {
     "data": {
      "text/plain": [
       "[array([ 7, -2,  1], dtype=int8),\n",
       " array([7, 5, 2], dtype=int8),\n",
       " array([ 6, -8], dtype=int8),\n",
       " array([-9,  7], dtype=int8)]"
      ]
     },
     "execution_count": 71,
     "metadata": {},
     "output_type": "execute_result"
    }
   ],
   "source": [
    "a_l. "
   ]
  },
  {
   "cell_type": "markdown",
   "metadata": {},
   "source": [
    "### 3\n"
   ]
  },
  {
   "cell_type": "code",
   "execution_count": 28,
   "metadata": {},
   "outputs": [
    {
     "data": {
      "text/plain": [
       "array([[0.79795733, 0.73763993, 0.25210208],\n",
       "       [0.04185845, 0.24514837, 0.18982861],\n",
       "       [0.86313489, 0.09919257, 0.19046188],\n",
       "       [0.04778428, 0.2552938 , 0.11215196],\n",
       "       [0.48997616, 0.95479607, 0.6576028 ]])"
      ]
     },
     "execution_count": 28,
     "metadata": {},
     "output_type": "execute_result"
    }
   ],
   "source": [
    "import numpy as np\n",
    "scores = np.random.random((5,3))\n",
    "scores"
   ]
  },
  {
   "cell_type": "code",
   "execution_count": 29,
   "metadata": {},
   "outputs": [
    {
     "data": {
      "text/plain": [
       "array([0.79795733, 0.24514837, 0.86313489, 0.2552938 , 0.95479607])"
      ]
     },
     "execution_count": 29,
     "metadata": {},
     "output_type": "execute_result"
    }
   ],
   "source": [
    "max4rows = np.max(scores,axis=1)\n",
    "max4rows"
   ]
  },
  {
   "cell_type": "code",
   "execution_count": 30,
   "metadata": {},
   "outputs": [
    {
     "data": {
      "text/plain": [
       "array([0, 1, 0, 1, 1])"
      ]
     },
     "execution_count": 30,
     "metadata": {},
     "output_type": "execute_result"
    }
   ],
   "source": [
    "argmax4rows = np.argmax(scores,axis=1)\n",
    "argmax4rows"
   ]
  },
  {
   "cell_type": "code",
   "execution_count": 31,
   "metadata": {},
   "outputs": [
    {
     "data": {
      "text/plain": [
       "array([[0.        , 0.73763993, 0.25210208],\n",
       "       [0.04185845, 0.        , 0.18982861],\n",
       "       [0.        , 0.09919257, 0.19046188],\n",
       "       [0.04778428, 0.        , 0.11215196],\n",
       "       [0.48997616, 0.        , 0.6576028 ]])"
      ]
     },
     "execution_count": 31,
     "metadata": {},
     "output_type": "execute_result"
    }
   ],
   "source": [
    "scores[range(len(argmax4rows)),argmax4rows] = 0\n",
    "scores"
   ]
  },
  {
   "cell_type": "code",
   "execution_count": 61,
   "metadata": {},
   "outputs": [
    {
     "data": {
      "text/plain": [
       "array([[1, 2],\n",
       "       [3, 4],\n",
       "       [5, 6]])"
      ]
     },
     "execution_count": 61,
     "metadata": {},
     "output_type": "execute_result"
    }
   ],
   "source": [
    "a = np.array([[1,2], [3, 4], [5, 6]])\n",
    "a"
   ]
  },
  {
   "cell_type": "code",
   "execution_count": 62,
   "metadata": {},
   "outputs": [
    {
     "data": {
      "text/plain": [
       "array([[1, 2],\n",
       "       [0, 0],\n",
       "       [0, 0]])"
      ]
     },
     "execution_count": 62,
     "metadata": {},
     "output_type": "execute_result"
    }
   ],
   "source": [
    "a[a > 2] = 0\n",
    "a"
   ]
  },
  {
   "cell_type": "code",
   "execution_count": 67,
   "metadata": {},
   "outputs": [
    {
     "data": {
      "text/plain": [
       "array([[1., 2., 1.],\n",
       "       [0., 0., 1.],\n",
       "       [0., 0., 1.]])"
      ]
     },
     "execution_count": 67,
     "metadata": {},
     "output_type": "execute_result"
    }
   ],
   "source": [
    "np.c_[a, np.ones(3).reshape(3,1)]"
   ]
  },
  {
   "cell_type": "code",
   "execution_count": 66,
   "metadata": {},
   "outputs": [
    {
     "data": {
      "text/plain": [
       "array([[1., 2.],\n",
       "       [0., 0.],\n",
       "       [0., 0.],\n",
       "       [1., 1.]])"
      ]
     },
     "execution_count": 66,
     "metadata": {},
     "output_type": "execute_result"
    }
   ],
   "source": [
    "np.r_[a, np.ones(2).reshape(1,2)]"
   ]
  },
  {
   "cell_type": "code",
   "execution_count": 52,
   "metadata": {},
   "outputs": [
    {
     "data": {
      "text/plain": [
       "array([1., 1.])"
      ]
     },
     "execution_count": 52,
     "metadata": {},
     "output_type": "execute_result"
    }
   ],
   "source": [
    "np.ones(2)"
   ]
  },
  {
   "cell_type": "code",
   "execution_count": 57,
   "metadata": {},
   "outputs": [
    {
     "name": "stdout",
     "output_type": "stream",
     "text": [
      "[[1 2 3]\n",
      " [4 5 6]\n",
      " [7 8 9]\n",
      " [0 0 0]] \n",
      " [[1 2 3 0]\n",
      " [4 5 6 0]\n",
      " [7 8 9 0]]\n"
     ]
    }
   ],
   "source": [
    "a = np.array([[1,2,3],[4,5,6],[7,8,9]])\n",
    "b = np.array([[0,0,0]])\n",
    "c = np.r_[a,b]\n",
    "d = np.c_[a,b.T]\n",
    "print(c,'\\n',d)"
   ]
  },
  {
   "cell_type": "code",
   "execution_count": 74,
   "metadata": {},
   "outputs": [
    {
     "data": {
      "text/plain": [
       "array([[0.        , 0.73763993, 0.25210208],\n",
       "       [0.04185845, 0.        , 0.18982861],\n",
       "       [0.        , 0.09919257, 0.19046188],\n",
       "       [0.04778428, 0.        , 0.11215196],\n",
       "       [0.48997616, 0.        , 0.6576028 ]])"
      ]
     },
     "execution_count": 74,
     "metadata": {},
     "output_type": "execute_result"
    }
   ],
   "source": [
    "scores"
   ]
  },
  {
   "cell_type": "code",
   "execution_count": 72,
   "metadata": {},
   "outputs": [
    {
     "data": {
      "text/plain": [
       "array([[0.        , 0.73763993],\n",
       "       [0.04185845, 0.        ],\n",
       "       [0.        , 0.09919257],\n",
       "       [0.04778428, 0.        ],\n",
       "       [0.48997616, 0.        ]])"
      ]
     },
     "execution_count": 72,
     "metadata": {},
     "output_type": "execute_result"
    }
   ],
   "source": [
    "scores[:,0:-1]"
   ]
  },
  {
   "cell_type": "code",
   "execution_count": 73,
   "metadata": {},
   "outputs": [
    {
     "data": {
      "text/plain": [
       "array([0.25210208, 0.18982861, 0.19046188, 0.11215196, 0.6576028 ])"
      ]
     },
     "execution_count": 73,
     "metadata": {},
     "output_type": "execute_result"
    }
   ],
   "source": [
    "scores[:,-1]"
   ]
  },
  {
   "cell_type": "code",
   "execution_count": 81,
   "metadata": {},
   "outputs": [
    {
     "data": {
      "text/plain": [
       "array([[ 0.44964485, -0.34288448, -0.31976885],\n",
       "       [ 0.02492434, -0.45917017, -0.48579053],\n",
       "       [ 0.39132555,  0.15632048,  0.30745887],\n",
       "       [ 0.21173017, -0.06495827, -0.3323145 ],\n",
       "       [ 0.27998779, -0.46459054,  0.43615421]])"
      ]
     },
     "execution_count": 81,
     "metadata": {},
     "output_type": "execute_result"
    }
   ],
   "source": [
    "scores = np.random.random((5,3))-0.5\n",
    "scores"
   ]
  },
  {
   "cell_type": "code",
   "execution_count": 87,
   "metadata": {},
   "outputs": [
    {
     "data": {
      "text/plain": [
       "array([[ 0.        , -0.79252933, -0.76941371],\n",
       "       [ 0.        , -0.48409451, -0.51071487],\n",
       "       [ 0.        , -0.23500507, -0.08386668],\n",
       "       [ 0.        , -0.27668844, -0.54404467],\n",
       "       [-0.15616642, -0.90074475,  0.        ]])"
      ]
     },
     "execution_count": 87,
     "metadata": {},
     "output_type": "execute_result"
    }
   ],
   "source": [
    "(scores.T - np.max(scores, axis =1)).T"
   ]
  },
  {
   "cell_type": "code",
   "execution_count": 85,
   "metadata": {},
   "outputs": [
    {
     "data": {
      "text/plain": [
       "array([0.44964485, 0.02492434, 0.39132555, 0.21173017, 0.43615421])"
      ]
     },
     "execution_count": 85,
     "metadata": {},
     "output_type": "execute_result"
    }
   ],
   "source": [
    "np.max(scores, axis =1)"
   ]
  },
  {
   "cell_type": "code",
   "execution_count": null,
   "metadata": {},
   "outputs": [],
   "source": []
  }
 ],
 "metadata": {
  "kernelspec": {
   "display_name": "Python 3",
   "language": "python",
   "name": "python3"
  },
  "language_info": {
   "codemirror_mode": {
    "name": "ipython",
    "version": 3
   },
   "file_extension": ".py",
   "mimetype": "text/x-python",
   "name": "python",
   "nbconvert_exporter": "python",
   "pygments_lexer": "ipython3",
   "version": "3.6.5"
  }
 },
 "nbformat": 4,
 "nbformat_minor": 4
}
