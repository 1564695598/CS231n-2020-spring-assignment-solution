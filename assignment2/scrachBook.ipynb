{
 "cells": [
  {
   "cell_type": "code",
   "execution_count": 5,
   "metadata": {},
   "outputs": [
    {
     "name": "stdout",
     "output_type": "stream",
     "text": [
      "4 5 6\n"
     ]
    }
   ],
   "source": [
    "import numpy as np\n",
    "input_shape = (4, 5, 6)\n",
    "print(*input_shape)"
   ]
  },
  {
   "cell_type": "code",
   "execution_count": 21,
   "metadata": {},
   "outputs": [],
   "source": [
    "num_inputs = 2\n",
    "input_shape = (3,2,2)\n",
    "output_dim = 3\n",
    "\n",
    "input_size = num_inputs * np.prod(input_shape)\n",
    "weight_size = output_dim * np.prod(input_shape)\n",
    "\n",
    "x = np.linspace(-0.1, 0.5, num=input_size).reshape(num_inputs, *input_shape)\n",
    "w = np.linspace(-0.2, 0.3, num=weight_size).reshape(np.prod(input_shape), output_dim)\n",
    "b = np.linspace(-0.3, 0.1, num=output_dim)"
   ]
  },
  {
   "cell_type": "code",
   "execution_count": 22,
   "metadata": {},
   "outputs": [
    {
     "name": "stdout",
     "output_type": "stream",
     "text": [
      "(2, 3, 2, 2) \n",
      " (12, 3) \n",
      " (3,)\n"
     ]
    }
   ],
   "source": [
    "print(x.shape,'\\n',w.shape,'\\n',b.shape)"
   ]
  },
  {
   "cell_type": "code",
   "execution_count": 23,
   "metadata": {},
   "outputs": [
    {
     "data": {
      "text/plain": [
       "array([[1.],\n",
       "       [1.],\n",
       "       [1.],\n",
       "       [1.]])"
      ]
     },
     "execution_count": 23,
     "metadata": {},
     "output_type": "execute_result"
    }
   ],
   "source": [
    "np.ones((4, 1), dtype = np.float64)"
   ]
  },
  {
   "cell_type": "code",
   "execution_count": 24,
   "metadata": {},
   "outputs": [
    {
     "data": {
      "text/plain": [
       "array([[[[-0.1       , -0.07391304],\n",
       "         [-0.04782609, -0.02173913]],\n",
       "\n",
       "        [[ 0.00434783,  0.03043478],\n",
       "         [ 0.05652174,  0.0826087 ]],\n",
       "\n",
       "        [[ 0.10869565,  0.13478261],\n",
       "         [ 0.16086957,  0.18695652]]],\n",
       "\n",
       "\n",
       "       [[[ 0.21304348,  0.23913043],\n",
       "         [ 0.26521739,  0.29130435]],\n",
       "\n",
       "        [[ 0.3173913 ,  0.34347826],\n",
       "         [ 0.36956522,  0.39565217]],\n",
       "\n",
       "        [[ 0.42173913,  0.44782609],\n",
       "         [ 0.47391304,  0.5       ]]]])"
      ]
     },
     "execution_count": 24,
     "metadata": {},
     "output_type": "execute_result"
    }
   ],
   "source": [
    "x"
   ]
  },
  {
   "cell_type": "code",
   "execution_count": 31,
   "metadata": {},
   "outputs": [
    {
     "data": {
      "text/plain": [
       "array([[-0.1       , -0.07391304, -0.04782609, -0.02173913,  0.00434783,\n",
       "         0.03043478,  0.05652174,  0.0826087 ,  0.10869565,  0.13478261,\n",
       "         0.16086957,  0.18695652],\n",
       "       [ 0.21304348,  0.23913043,  0.26521739,  0.29130435,  0.3173913 ,\n",
       "         0.34347826,  0.36956522,  0.39565217,  0.42173913,  0.44782609,\n",
       "         0.47391304,  0.5       ]])"
      ]
     },
     "execution_count": 31,
     "metadata": {},
     "output_type": "execute_result"
    }
   ],
   "source": [
    "X = x.reshape((2, np.prod(input_shape)))\n",
    "X"
   ]
  },
  {
   "cell_type": "code",
   "execution_count": 27,
   "metadata": {},
   "outputs": [
    {
     "data": {
      "text/plain": [
       "2"
      ]
     },
     "execution_count": 27,
     "metadata": {},
     "output_type": "execute_result"
    }
   ],
   "source": [
    "x.shape[0]"
   ]
  },
  {
   "cell_type": "code",
   "execution_count": 29,
   "metadata": {},
   "outputs": [
    {
     "data": {
      "text/plain": [
       "(3, 2, 2)"
      ]
     },
     "execution_count": 29,
     "metadata": {},
     "output_type": "execute_result"
    }
   ],
   "source": [
    "x.shape[1:]"
   ]
  },
  {
   "cell_type": "code",
   "execution_count": 33,
   "metadata": {},
   "outputs": [
    {
     "data": {
      "text/plain": [
       "array([[[[ True,  True],\n",
       "         [ True,  True]],\n",
       "\n",
       "        [[ True,  True],\n",
       "         [ True,  True]],\n",
       "\n",
       "        [[ True,  True],\n",
       "         [ True,  True]]],\n",
       "\n",
       "\n",
       "       [[[ True,  True],\n",
       "         [ True,  True]],\n",
       "\n",
       "        [[ True,  True],\n",
       "         [ True,  True]],\n",
       "\n",
       "        [[ True,  True],\n",
       "         [ True,  True]]]])"
      ]
     },
     "execution_count": 33,
     "metadata": {},
     "output_type": "execute_result"
    }
   ],
   "source": [
    "X.reshape(x.shape) == x"
   ]
  },
  {
   "cell_type": "markdown",
   "metadata": {},
   "source": [
    "# random seed test"
   ]
  },
  {
   "cell_type": "code",
   "execution_count": 42,
   "metadata": {},
   "outputs": [
    {
     "name": "stdout",
     "output_type": "stream",
     "text": [
      "[-1.28495154  0.24006869  0.95947267 -1.43565494]\n",
      "[-0.80357196 -0.74198272  0.42685873  0.36319518]\n",
      "[-1.73081922 -1.23391987  0.34631494 -1.42882661]\n"
     ]
    }
   ],
   "source": [
    "for i in range(3):\n",
    "    np.random.seed(None)\n",
    "    print(np.random.randn(4))"
   ]
  },
  {
   "cell_type": "code",
   "execution_count": 37,
   "metadata": {},
   "outputs": [
    {
     "name": "stdout",
     "output_type": "stream",
     "text": [
      "[1.76405235 0.40015721 0.97873798 2.2408932 ]\n",
      "[ 1.86755799 -0.97727788  0.95008842 -0.15135721]\n",
      "[-0.10321885  0.4105985   0.14404357  1.45427351]\n"
     ]
    }
   ],
   "source": [
    "np.random.seed(0)\n",
    "for i in range(3):\n",
    "    print(np.random.randn(4))"
   ]
  },
  {
   "cell_type": "code",
   "execution_count": 38,
   "metadata": {},
   "outputs": [
    {
     "name": "stdout",
     "output_type": "stream",
     "text": [
      "\n",
      "[1.76405235 0.40015721 0.97873798 2.2408932 ]\n",
      "[ 1.86755799 -0.97727788  0.95008842 -0.15135721]\n",
      "[-0.10321885  0.4105985   0.14404357  1.45427351]\n",
      "\n",
      "[1.76405235 0.40015721 0.97873798 2.2408932 ]\n",
      "[ 1.86755799 -0.97727788  0.95008842 -0.15135721]\n",
      "[-0.10321885  0.4105985   0.14404357  1.45427351]\n",
      "\n",
      "[1.76405235 0.40015721 0.97873798 2.2408932 ]\n",
      "[ 1.86755799 -0.97727788  0.95008842 -0.15135721]\n",
      "[-0.10321885  0.4105985   0.14404357  1.45427351]\n"
     ]
    }
   ],
   "source": [
    "for i in range(3):\n",
    "    print()\n",
    "    np.random.seed(0)\n",
    "    for j in range(3):\n",
    "        print(np.random.randn(4))\n",
    "        "
   ]
  },
  {
   "cell_type": "code",
   "execution_count": 52,
   "metadata": {},
   "outputs": [
    {
     "data": {
      "text/plain": [
       "[0, 1, 2]"
      ]
     },
     "execution_count": 52,
     "metadata": {},
     "output_type": "execute_result"
    }
   ],
   "source": [
    "[*range(3)]"
   ]
  },
  {
   "cell_type": "code",
   "execution_count": 62,
   "metadata": {},
   "outputs": [
    {
     "name": "stdout",
     "output_type": "stream",
     "text": [
      "3\n",
      "2\n",
      "1\n"
     ]
    }
   ],
   "source": [
    "for i in range(3):\n",
    "    print(3-i)"
   ]
  },
  {
   "cell_type": "code",
   "execution_count": 1,
   "metadata": {},
   "outputs": [
    {
     "data": {
      "text/plain": [
       "[{'mode': 'train'},\n",
       " {'mode': 'train'},\n",
       " {'mode': 'train'},\n",
       " {'mode': 'train'},\n",
       " {'mode': 'train'},\n",
       " {'mode': 'train'},\n",
       " {'mode': 'train'},\n",
       " {'mode': 'train'},\n",
       " {'mode': 'train'},\n",
       " {'mode': 'train'}]"
      ]
     },
     "execution_count": 1,
     "metadata": {},
     "output_type": "execute_result"
    }
   ],
   "source": [
    "[{\"mode\": \"train\"} for i in range(10)]"
   ]
  },
  {
   "cell_type": "code",
   "execution_count": null,
   "metadata": {},
   "outputs": [],
   "source": []
  }
 ],
 "metadata": {
  "kernelspec": {
   "display_name": "Python 3",
   "language": "python",
   "name": "python3"
  },
  "language_info": {
   "codemirror_mode": {
    "name": "ipython",
    "version": 3
   },
   "file_extension": ".py",
   "mimetype": "text/x-python",
   "name": "python",
   "nbconvert_exporter": "python",
   "pygments_lexer": "ipython3",
   "version": "3.6.5"
  }
 },
 "nbformat": 4,
 "nbformat_minor": 4
}
